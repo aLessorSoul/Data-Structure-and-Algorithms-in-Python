{
 "cells": [
  {
   "cell_type": "code",
   "execution_count": 26,
   "metadata": {},
   "outputs": [
    {
     "name": "stdout",
     "output_type": "stream",
     "text": [
      "[49, 26, 55, 68, 70, 77, 28, 76, 45, 53]\n",
      "[26, 28, 45, 49, 53, 55, 68, 70, 76, 77]\n"
     ]
    }
   ],
   "source": [
    "import numpy as np\n",
    "lst = list(np.random.randint(1,100,10))\n",
    "print(lst)\n",
    "print(sorted(lst))"
   ]
  },
  {
   "cell_type": "code",
   "execution_count": 27,
   "metadata": {},
   "outputs": [
    {
     "data": {
      "text/plain": [
       "True"
      ]
     },
     "execution_count": 27,
     "metadata": {},
     "output_type": "execute_result"
    }
   ],
   "source": [
    "lst = list(np.random.randint(1,100,10))\n",
    "def bubbleSort(lst):\n",
    "    for sorting_pos in range(len(lst)):\n",
    "        exchange = False\n",
    "        for pos in range(len(lst) - sorting_pos - 1):\n",
    "            if lst[pos] > lst[pos + 1]:\n",
    "                lst[pos], lst[pos + 1] = lst[pos + 1], lst[pos]\n",
    "                exchange = True\n",
    "        if not exchange:\n",
    "            return lst\n",
    "    return lst\n",
    "bubbleSort(lst) == sorted(lst)"
   ]
  },
  {
   "cell_type": "code",
   "execution_count": 97,
   "metadata": {},
   "outputs": [
    {
     "name": "stdout",
     "output_type": "stream",
     "text": [
      "[35, 31, 61, 8, 17, 99, 72, 78, 91, 39]\n"
     ]
    },
    {
     "data": {
      "text/plain": [
       "True"
      ]
     },
     "execution_count": 97,
     "metadata": {},
     "output_type": "execute_result"
    }
   ],
   "source": [
    "lst = list(np.random.randint(1,100,10))\n",
    "print(lst)\n",
    "def insertionSort(lst):\n",
    "    for index in range(1, len(lst)):\n",
    "        currentValue = lst[index]\n",
    "        pos = index\n",
    "\n",
    "        while lst[pos - 1] > currentValue and pos > 0:\n",
    "            lst[pos] = lst[pos - 1]\n",
    "            pos -= 1\n",
    "        lst[pos] = currentValue\n",
    "    return lst\n",
    "insertionSort(lst) == sorted(lst)"
   ]
  },
  {
   "cell_type": "code",
   "execution_count": 105,
   "metadata": {},
   "outputs": [
    {
     "data": {
      "text/plain": [
       "True"
      ]
     },
     "execution_count": 105,
     "metadata": {},
     "output_type": "execute_result"
    }
   ],
   "source": [
    "# shell\n",
    "def gapInsertionSort(lst,start = 0, gap = 1):\n",
    "    for index in range(start + gap, len(lst), gap):\n",
    "        currentValue = lst[index]\n",
    "        pos = index\n",
    "\n",
    "        while lst[pos - gap] > currentValue and pos > 0:\n",
    "            lst[pos] = lst[pos - gap]\n",
    "            pos -= gap\n",
    "        lst[pos] = currentValue\n",
    "    return lst\n",
    "lst = list(np.random.randint(1,100,10))\n",
    "def shellSort(lst):\n",
    "    gap = len(lst) // 2\n",
    "    while gap > 0:\n",
    "        for start in range(gap):\n",
    "            lst = gapInsertionSort(lst, start, gap)\n",
    "        gap = gap // 2\n",
    "    \n",
    "    return lst\n",
    "\n",
    "shellSort(lst) == sorted(lst)"
   ]
  },
  {
   "cell_type": "code",
   "execution_count": 116,
   "metadata": {},
   "outputs": [
    {
     "data": {
      "text/plain": [
       "[15, 19, 44, 47, 53, 85, 87, 89, 91, 98]"
      ]
     },
     "execution_count": 116,
     "metadata": {},
     "output_type": "execute_result"
    }
   ],
   "source": [
    "lst = list(np.random.randint(1,100,10))\n",
    "\n",
    "def mergeSort(lst):\n",
    "    if len(lst) == 1:\n",
    "        return lst\n",
    "    split_index = len(lst) // 2\n",
    "    left_half = mergeSort(lst[:split_index])\n",
    "    right_half = mergeSort(lst[split_index:])\n",
    "    sorted_list = []\n",
    "    i = 0\n",
    "    j = 0\n",
    "    while i < len(left_half) and j < len(right_half):\n",
    "        if left_half[i] <= right_half[j]:\n",
    "            sorted_list.append(left_half[i])\n",
    "            i += 1\n",
    "        else:\n",
    "            sorted_list.append(right_half[j])\n",
    "            j += 1\n",
    "    while i < len(left_half):\n",
    "        sorted_list.append(left_half[i])\n",
    "        i += 1\n",
    "    while j < len(right_half):\n",
    "        sorted_list.append(right_half[j])\n",
    "        j += 1\n",
    "    return sorted_list\n",
    "mergeSort(lst)"
   ]
  },
  {
   "cell_type": "code",
   "execution_count": 114,
   "metadata": {},
   "outputs": [
    {
     "name": "stdout",
     "output_type": "stream",
     "text": [
      "wow\n"
     ]
    }
   ],
   "source": []
  },
  {
   "cell_type": "code",
   "execution_count": null,
   "metadata": {},
   "outputs": [],
   "source": []
  }
 ],
 "metadata": {
  "kernelspec": {
   "display_name": "Python 3",
   "language": "python",
   "name": "python3"
  },
  "language_info": {
   "codemirror_mode": {
    "name": "ipython",
    "version": 3
   },
   "file_extension": ".py",
   "mimetype": "text/x-python",
   "name": "python",
   "nbconvert_exporter": "python",
   "pygments_lexer": "ipython3",
   "version": "3.8.5"
  }
 },
 "nbformat": 4,
 "nbformat_minor": 4
}
