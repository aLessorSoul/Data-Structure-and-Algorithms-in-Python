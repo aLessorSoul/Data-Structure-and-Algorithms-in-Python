{
 "cells": [
  {
   "cell_type": "code",
   "execution_count": null,
   "metadata": {},
   "outputs": [],
   "source": [
    "class binaryTree:\n",
    "    def __init__(self, key = None, value = None):\n",
    "        self.key = key\n",
    "        self.value = value\n",
    "        self.leftChild = None\n",
    "        self.rightChild = None\n",
    "    \n",
    "    def setLeftChild(self, leftChild):\n",
    "        self.leftChild = leftChild\n",
    "        \n",
    "    def setRightChild(self, rightChild):\n",
    "        self.rightChild = rightChild\n",
    "    "
   ]
  },
  {
   "cell_type": "code",
   "execution_count": 60,
   "metadata": {},
   "outputs": [],
   "source": [
    "class binaryHeap:\n",
    "    def __init__(self, heapList = None):\n",
    "        self.lst = [None]\n",
    "        self.currentSize = 0\n",
    "        if heapList is not None:\n",
    "            self.buildHeap(heapList)\n",
    "    \n",
    "    def buildHeap(self, heapList):\n",
    "        self.lst = [None] + heapList\n",
    "        self.currentSize = len(heapList)\n",
    "        for pos in range(self.currentSize, 1, -1): #从堆底往上\n",
    "            self.percDown(pos)\n",
    "            print(self.lst)\n",
    "        \n",
    "    def insert(self, key):\n",
    "        self.lst.append(key)\n",
    "        self.currentSize += 1\n",
    "        self.percUp(self.currentSize)\n",
    "        \n",
    "    def percUp(self, pos):\n",
    "        if pos == 1:\n",
    "            return None\n",
    "        else:\n",
    "            father = pos // 2\n",
    "            if self.lst[father] > self.lst[pos]:\n",
    "                self.lst[pos], self.lst[father] = self.lst[father], self.lst[pos]\n",
    "                self.percUp(father)\n",
    "                \n",
    "    def findMinChild(self, pos): # 找到left 和 right 中较小的child\n",
    "        if pos * 2 + 1 > self.currentSize:\n",
    "            return pos * 2\n",
    "        elif self.lst[pos * 2] <= self.lst[pos * 2 + 1]:\n",
    "            return pos * 2\n",
    "        else:\n",
    "            return pos * 2 + 1\n",
    "        \n",
    "    def percDown(self, pos):\n",
    "        if pos * 2 > self.currentSize:\n",
    "            return None\n",
    "        else:\n",
    "            minChild = self.findMinChild(pos)\n",
    "            if self.lst[pos] > self.lst[minChild]:\n",
    "                self.lst[pos], self.lst[minChild] = self.lst[minChild], self.lst[pos]\n",
    "            \n",
    "        \n",
    "    def pop(self):\n",
    "        if self.currentSize == 0:\n",
    "            return None\n",
    "        else:\n",
    "            minPos = self.lst[1]\n",
    "            self.lst = [None] + self.lst[2:]\n",
    "            self.currentSize -= 1\n",
    "            print(self.lst)\n",
    "            self.percDown(1)\n",
    "            return minPos\n",
    "    \n",
    "    def size(self):\n",
    "        return self.currentSize"
   ]
  },
  {
   "cell_type": "code",
   "execution_count": 61,
   "metadata": {},
   "outputs": [
    {
     "name": "stdout",
     "output_type": "stream",
     "text": [
      "[None, 1, 5, 3, 7]\n",
      "[None, 5, 3, 7]\n",
      "1\n",
      "[None, 5, 7]\n",
      "3\n",
      "[None, 7]\n",
      "5\n",
      "[None]\n",
      "7\n",
      "None\n"
     ]
    }
   ],
   "source": [
    "bh = binaryHeap()\n",
    "bh.insert(1)\n",
    "bh.insert(5)\n",
    "bh.insert(3)\n",
    "bh.insert(7)\n",
    "print(bh.lst)\n",
    "print(bh.pop())\n",
    "print(bh.pop())\n",
    "print(bh.pop())\n",
    "print(bh.pop())\n",
    "print(bh.pop())"
   ]
  },
  {
   "cell_type": "code",
   "execution_count": 62,
   "metadata": {},
   "outputs": [
    {
     "name": "stdout",
     "output_type": "stream",
     "text": [
      "[None, 1, 5, 7, 7, 8, 3, 2, 1]\n",
      "[None, 1, 5, 7, 7, 8, 3, 2, 1]\n",
      "[None, 1, 5, 7, 7, 8, 3, 2, 1]\n",
      "[None, 1, 5, 7, 7, 8, 3, 2, 1]\n",
      "[None, 1, 5, 7, 1, 8, 3, 2, 7]\n",
      "[None, 1, 5, 2, 1, 8, 3, 7, 7]\n",
      "[None, 1, 1, 2, 5, 8, 3, 7, 7]\n"
     ]
    },
    {
     "data": {
      "text/plain": [
       "[None, 1, 1, 2, 5, 8, 3, 7, 7]"
      ]
     },
     "execution_count": 62,
     "metadata": {},
     "output_type": "execute_result"
    }
   ],
   "source": [
    "bh = binaryHeap([1,5,7,7,8,3,2,1])\n",
    "bh.lst"
   ]
  },
  {
   "cell_type": "code",
   "execution_count": null,
   "metadata": {},
   "outputs": [],
   "source": []
  }
 ],
 "metadata": {
  "kernelspec": {
   "display_name": "Python 3",
   "language": "python",
   "name": "python3"
  },
  "language_info": {
   "codemirror_mode": {
    "name": "ipython",
    "version": 3
   },
   "file_extension": ".py",
   "mimetype": "text/x-python",
   "name": "python",
   "nbconvert_exporter": "python",
   "pygments_lexer": "ipython3",
   "version": "3.8.5"
  }
 },
 "nbformat": 4,
 "nbformat_minor": 4
}
