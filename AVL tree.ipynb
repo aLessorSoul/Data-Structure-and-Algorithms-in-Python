{
 "cells": [
  {
   "cell_type": "code",
   "execution_count": 238,
   "metadata": {},
   "outputs": [],
   "source": [
    "class avlNode:\n",
    "    def __init__(self, key, parent = None, height = 0):\n",
    "        self.key = key\n",
    "        self.parent = parent\n",
    "        self.left = None\n",
    "        self.right = None\n",
    "        self.balanceFactor = 0 #bf = 结点的右子树的深度减去左子树的深度。新叶子=0\n",
    "        self.height = height\n",
    "    \n",
    "    def setKey(self, key):\n",
    "        self.key = key\n",
    "    \n",
    "    def setLeft(self, leftChild):\n",
    "        self.left = leftChild\n",
    "    \n",
    "    def setRight(self, rightChild):\n",
    "        self.right = rightChild\n",
    "        \n",
    "    def isLeaf(self):\n",
    "        if self.left is None and self.right is None:\n",
    "            return True\n",
    "        else:\n",
    "            return False\n",
    "    \n",
    "    def __iter__(self):\n",
    "        if self.left is not None:\n",
    "            for i in self.left:\n",
    "                yield i\n",
    "        yield self\n",
    "        if self.right is not None:\n",
    "            for i in self.right:\n",
    "                yield i\n",
    "                \n",
    "    def getParent(self):\n",
    "        return self.parent\n",
    "    \n",
    "    def isLeftChild(self):\n",
    "        if self == self.getParent().left:\n",
    "            return True\n",
    "        else:\n",
    "            return False\n",
    "    \n",
    "    def modifyBF(self, newBF):\n",
    "        self.balanceFactor = newBF\n",
    "        "
   ]
  },
  {
   "cell_type": "code",
   "execution_count": 263,
   "metadata": {},
   "outputs": [],
   "source": [
    "class avlTree:\n",
    "    def __init__(self):\n",
    "        self.root = None   \n",
    "        self.size = 0\n",
    "\n",
    "    def height(self, node):\n",
    "        if node is None:\n",
    "            return -1\n",
    "        else:\n",
    "            return node.height\n",
    "    def setHeight(self, node):\n",
    "        node.height = max(self.height(node.left), self.height(node.right)) + 1\n",
    "    def insert(self, key):\n",
    "        if self.root is None:\n",
    "            self.root = avlNode(key)\n",
    "        else:\n",
    "            self._insert(key, self.root)\n",
    "        self.size += 1\n",
    "    \n",
    "    def _insert(self, key, node):\n",
    "        if key == node.key:\n",
    "            raise\n",
    "        elif key > node.key:\n",
    "            if node.right is None:\n",
    "                node.right = avlNode(key, node)\n",
    "                self.updateHeight(node)\n",
    "            else:\n",
    "                self._insert(key, node.right)\n",
    "        else:\n",
    "            if node.left is None:\n",
    "                node.left = avlNode(key, node)\n",
    "                self.updateHeight(node)\n",
    "            else:\n",
    "                self._insert(key, node.left)\n",
    "                    \n",
    "    def get(self, key):\n",
    "        if self.root is None:\n",
    "            return None\n",
    "        else:\n",
    "            return self._get(key, self.root)\n",
    "    \n",
    "    def _get(self, key, node):\n",
    "        if key == node.key:\n",
    "            return node\n",
    "        elif key > node.key:\n",
    "            if node.right is None:\n",
    "                return None\n",
    "            else:\n",
    "                return self._get(key, node.right)\n",
    "        else:\n",
    "            if node.left is None:\n",
    "                return None\n",
    "            else:\n",
    "                return self._get(key, node.left)\n",
    "            \n",
    "    def updateHeight(self, node):\n",
    "        leftHeight = self.height(node.left)\n",
    "        rightHeight = self.height(node.right)\n",
    "        node.balanceFactor = rightHeight - leftHeight\n",
    "        node.height = max(leftHeight, rightHeight) + 1\n",
    "        if abs(node.balanceFactor) == 2:\n",
    "            print('rebalancing', node.key)\n",
    "            self.print()\n",
    "            self.rebalance(node)\n",
    "            self.updateHeight(node)\n",
    "        if node.parent is not None:\n",
    "            self.updateHeight(node.parent)            \n",
    "\n",
    "    def _rebalance(self, node):\n",
    "        if (self.height(node.right) - self.height(node.left)) == 2:\n",
    "            if node.right.balanceFactor == 1:\n",
    "                replacement = self.leftRotate(node)\n",
    "            elif node.right.balanceFactor == -1:\n",
    "                replacement = self.rightAndLeft(node)\n",
    "            else:\n",
    "                raise \n",
    "        elif (self.height(node.right) - self.height(node.left)) == -2:\n",
    "            if node.left.balanceFactor == -1:\n",
    "                replacement = self.rightRotate(node)\n",
    "            elif node.left.balanceFactor == 1:\n",
    "                replacement = self.leftAndRight(node)\n",
    "            else:\n",
    "                raise \n",
    "        return replacement\n",
    "    \n",
    "    def rebalance(self, node):\n",
    "        print('rebalancing node', node.key)\n",
    "        if  node == self.root:\n",
    "            replacement = self._rebalance(node)\n",
    "            self.root = replacement\n",
    "            self.root.parent = None\n",
    "        else:\n",
    "            parent = node.getParent()\n",
    "            isLeftChild = node.isLeftChild()\n",
    "            replacement = self._rebalance(node)\n",
    "            if isLeftChild:\n",
    "                parent.left = replacement\n",
    "            else:\n",
    "                parent.right = replacement\n",
    "            if replacement is not None:\n",
    "                replacement.parent = parent\n",
    "            \n",
    "    def delete(self, key):\n",
    "        nodeToDelete = self.get(key)\n",
    "        if nodeToDelete is None:\n",
    "            return None\n",
    "        elif  nodeToDelete == self.root:\n",
    "            if self.size == 1:\n",
    "                self.root = None\n",
    "                self.size = 0\n",
    "            else:\n",
    "                replacement = self._delete(nodeToDelete)\n",
    "                self.root = replacement\n",
    "                self.size -= 1\n",
    "        else:\n",
    "            parent = nodeToDelete.getParent()\n",
    "            replacement = self._delete(nodeToDelete)\n",
    "\n",
    "            if nodeToDelete.isLeftChild():\n",
    "                parent.left = replacement\n",
    "            else:\n",
    "                parent.right = replacement\n",
    "            if replacement is not None:\n",
    "                replacement.parent = parent\n",
    "                self.updateHeight(replacement)\n",
    "                \n",
    "            self.size -= 1\n",
    "            \n",
    "    def _delete(self, nodeToDelete):\n",
    "        if nodeToDelete.right is not None:\n",
    "            replacement = self.findMinVal(nodeToDelete.right)\n",
    "            print('replacing', nodeToDelete.key, 'with', replacement.key)\n",
    "            oldParent = replacement.parent\n",
    "            #replacement is minimal value, i.e. left leaf of its parent. so delete it\n",
    "            if replacement == nodeToDelete.right:\n",
    "                pass\n",
    "            else:\n",
    "                replacement.right = nodeToDelete.right\n",
    "            replacement.left = nodeToDelete.left\n",
    "            oldParent.left = None\n",
    "            return replacement #方便连接\n",
    "        \n",
    "        elif nodeToDelete.left is not None:\n",
    "            replacement = self.findMaxVal(nodeToDelete.left) \n",
    "            print('replacing', nodeToDelete.key, 'with', replacement.key)\n",
    "            oldParent = replacement.parent\n",
    "            #replacement is max value, i.e. right leaf of its parent. so delete it\n",
    "            if replacement == nodeToDelete.left:\n",
    "                pass\n",
    "            else:\n",
    "                replacement.left = nodeToDelete.left\n",
    "                \n",
    "            replacement.right = nodeToDelete.right\n",
    "            oldParent.right = None\n",
    "            \n",
    "            return replacement #方便连接\n",
    "        \n",
    "        else:\n",
    "            return None\n",
    "        \n",
    "            \n",
    "    def findMinVal(self, node):\n",
    "        if node.left is not None:\n",
    "            return self.findMinVal(node.left)\n",
    "        else:\n",
    "            return node\n",
    "    \n",
    "    def findMaxVal(self, node):\n",
    "        if node.right is not None:\n",
    "            return self.findMaxVal(self, node.right)\n",
    "        else:\n",
    "            return node\n",
    "    \n",
    "    def __iter__(self):\n",
    "        return self.root.__iter__()\n",
    "    \n",
    "    def print(self):\n",
    "        print([i.key for i in self])\n",
    "    \n",
    "    def printBF(self):\n",
    "        print([i.balanceFactor for i in self])\n",
    "    \n",
    "\n",
    "    def leftRotate(self, oldRoot):\n",
    "        newRoot = oldRoot.right\n",
    "\n",
    "        oldRoot.right = newRoot.left\n",
    "        self.setParent(oldRoot.right, oldRoot)\n",
    "\n",
    "        newRoot.left = oldRoot\n",
    "        self.setParent(oldRoot, newRoot)\n",
    "        \n",
    "        self.setHeight(oldRoot)\n",
    "        self.setHeight(newRoot)\n",
    "\n",
    "        return newRoot\n",
    "\n",
    "    def rightRotate(self, oldRoot):\n",
    "        newRoot = oldRoot.left\n",
    "\n",
    "        oldRoot.left = newRoot.right\n",
    "        self.setParent(oldRoot.left, oldRoot)\n",
    "\n",
    "        newRoot.right = oldRoot\n",
    "        self.setParent(oldRoot, newRoot)\n",
    "        \n",
    "        self.setHeight(oldRoot)\n",
    "        self.setHeight(newRoot)\n",
    "        \n",
    "        return newRoot\n",
    "\n",
    "    def leftAndRight(self, root):\n",
    "        root.left = self.leftRotate(root.left)\n",
    "        return self.rightRotate(root)\n",
    "\n",
    "    def rightAndLeft(self, root):\n",
    "        root.right = self.rightRotate(root.right)\n",
    "        return self.leftRotate(root)\n",
    "    \n",
    "    def setParent(self, child, parent):\n",
    "        if child is not None:\n",
    "            child.parent = parent"
   ]
  },
  {
   "cell_type": "markdown",
   "metadata": {},
   "source": [
    "# Test case"
   ]
  },
  {
   "cell_type": "code",
   "execution_count": 264,
   "metadata": {},
   "outputs": [
    {
     "name": "stdout",
     "output_type": "stream",
     "text": [
      "inserting 9 root 15\n",
      "[15]\n",
      "inserting 12 root 15\n",
      "[9, 15]\n",
      "rebalancing 15\n",
      "[9, 12, 15]\n",
      "rebalancing node 15\n",
      "inserting 24 root 12\n",
      "[9, 12, 15]\n",
      "inserting 34 root 12\n",
      "[9, 12, 15, 24]\n",
      "rebalancing 15\n",
      "[9, 12, 15, 24, 34]\n",
      "rebalancing node 15\n",
      "inserting 80 root 12\n",
      "[9, 12, 15, 24, 34]\n",
      "rebalancing 12\n",
      "[9, 12, 15, 24, 34, 80]\n",
      "rebalancing node 12\n",
      "inserting 99 root 24\n",
      "[9, 12, 15, 24, 34, 80]\n",
      "rebalancing 34\n",
      "[9, 12, 15, 24, 34, 80, 99]\n",
      "rebalancing node 34\n",
      "deleting 9 root 24\n",
      "[12, 15, 24, 34, 80, 99]\n",
      "deleting 12 root 24\n",
      "replacing 12 with 15\n",
      "[15, 24, 34, 80, 99]\n",
      "deleting 24 root 24\n",
      "replacing 24 with 34\n",
      "[15, 34, 80, 99]\n",
      "deleting 34 root 34\n",
      "replacing 34 with 80\n",
      "[15, 80, 99]\n",
      "deleting 80 root 80\n",
      "replacing 80 with 99\n",
      "[15, 99]\n",
      "deleting 99 root 99\n",
      "replacing 99 with 15\n",
      "[15]\n",
      "[15]\n",
      "[0]\n"
     ]
    }
   ],
   "source": [
    "a = avlTree()\n",
    "a.insert(15)\n",
    "for i in [9,12,24,34,80,99]:\n",
    "    print('inserting', i, 'root', a.root.key)\n",
    "    a.print()\n",
    "    a.insert(i)\n",
    "for i in [9,12 ,24,34,80,99]:\n",
    "    print('deleting', i, 'root', a.root.key)\n",
    "    a.delete(i)\n",
    "    a.print()\n",
    "a.print()\n",
    "a.printBF()"
   ]
  },
  {
   "cell_type": "code",
   "execution_count": 262,
   "metadata": {},
   "outputs": [
    {
     "data": {
      "text/plain": [
       "34"
      ]
     },
     "execution_count": 262,
     "metadata": {},
     "output_type": "execute_result"
    }
   ],
   "source": [
    "a.root.right.left.key"
   ]
  },
  {
   "cell_type": "code",
   "execution_count": 248,
   "metadata": {},
   "outputs": [
    {
     "data": {
      "text/plain": [
       "15"
      ]
     },
     "execution_count": 248,
     "metadata": {},
     "output_type": "execute_result"
    }
   ],
   "source": [
    "a.root.left.right.right.key"
   ]
  },
  {
   "cell_type": "code",
   "execution_count": 216,
   "metadata": {},
   "outputs": [
    {
     "name": "stdout",
     "output_type": "stream",
     "text": [
      "replacing 24 with 34\n"
     ]
    }
   ],
   "source": [
    "a.delete(24)"
   ]
  },
  {
   "cell_type": "code",
   "execution_count": 218,
   "metadata": {},
   "outputs": [],
   "source": [
    "a.root.right"
   ]
  },
  {
   "cell_type": "code",
   "execution_count": 172,
   "metadata": {},
   "outputs": [
    {
     "name": "stdout",
     "output_type": "stream",
     "text": [
      "inserted 24 under 15\n",
      "[1, 0, 0, 0]\n",
      "15 1\n",
      "12 1\n"
     ]
    }
   ],
   "source": [
    "a.insert(24)"
   ]
  },
  {
   "cell_type": "code",
   "execution_count": 173,
   "metadata": {},
   "outputs": [
    {
     "data": {
      "text/plain": [
       "False"
      ]
     },
     "execution_count": 173,
     "metadata": {},
     "output_type": "execute_result"
    }
   ],
   "source": [
    "a.root.right.isLeftChild()"
   ]
  },
  {
   "cell_type": "code",
   "execution_count": 174,
   "metadata": {},
   "outputs": [
    {
     "name": "stdout",
     "output_type": "stream",
     "text": [
      "inserted 34 under 24\n",
      "[1, 1, 1, 0, 0]\n",
      "24 1\n",
      "15 2\n",
      "rebalancing 15\n",
      "[9, 12, 15, 24, 34]\n",
      "replacing 15 with 24\n",
      "\n",
      "parent 12 new right child is 24\n",
      "15 0\n",
      "24 0\n",
      "12 1\n",
      "24 0\n",
      "12 1\n"
     ]
    }
   ],
   "source": [
    "a.insert(34)"
   ]
  },
  {
   "cell_type": "code",
   "execution_count": 150,
   "metadata": {},
   "outputs": [
    {
     "data": {
      "text/plain": [
       "12"
      ]
     },
     "execution_count": 150,
     "metadata": {},
     "output_type": "execute_result"
    }
   ],
   "source": [
    "a.root.key"
   ]
  },
  {
   "cell_type": "code",
   "execution_count": 151,
   "metadata": {},
   "outputs": [
    {
     "data": {
      "text/plain": [
       "15"
      ]
     },
     "execution_count": 151,
     "metadata": {},
     "output_type": "execute_result"
    }
   ],
   "source": [
    "a.root.right.key"
   ]
  },
  {
   "cell_type": "code",
   "execution_count": null,
   "metadata": {},
   "outputs": [],
   "source": []
  }
 ],
 "metadata": {
  "kernelspec": {
   "display_name": "Python 3",
   "language": "python",
   "name": "python3"
  },
  "language_info": {
   "codemirror_mode": {
    "name": "ipython",
    "version": 3
   },
   "file_extension": ".py",
   "mimetype": "text/x-python",
   "name": "python",
   "nbconvert_exporter": "python",
   "pygments_lexer": "ipython3",
   "version": "3.8.5"
  }
 },
 "nbformat": 4,
 "nbformat_minor": 4
}
